{
 "cells": [
  {
   "cell_type": "markdown",
   "metadata": {},
   "source": [
    "# Example for running three stage growth model"
   ]
  },
  {
   "cell_type": "code",
   "execution_count": 1,
   "metadata": {
    "execution": {
     "iopub.execute_input": "2024-06-27T02:36:26.205333Z",
     "iopub.status.busy": "2024-06-27T02:36:26.204455Z",
     "iopub.status.idle": "2024-06-27T02:36:28.022511Z",
     "shell.execute_reply": "2024-06-27T02:36:28.021433Z",
     "shell.execute_reply.started": "2024-06-27T02:36:26.205278Z"
    }
   },
   "outputs": [],
   "source": [
    "####### Imports\n",
    "import time\n",
    "import numpy as np\n",
    "import matplotlib.pyplot as plt\n",
    "import seaborn as sns\n",
    "import pandas as pd\n",
    "import yaml\n",
    "import os, sys\n",
    "os.environ[\"HDF5_USE_FILE_LOCKING\"] = \"FALSE\"\n",
    "# MUST LOAD AFTER\n",
    "import h5py\n",
    "import warnings\n",
    "warnings.filterwarnings(\"ignore\")\n",
    "\n",
    "sys.path.append('./util')\n",
    "from util.IO import read_yaml_to_dict, get_parameter_output, run_model_job, h5_tree, read_h5, process_data\n",
    "from util.plots import plot_results"
   ]
  },
  {
   "cell_type": "markdown",
   "metadata": {},
   "source": [
    "### Execution of the model"
   ]
  },
  {
   "cell_type": "code",
   "execution_count": 2,
   "metadata": {
    "execution": {
     "iopub.execute_input": "2024-06-27T02:36:28.024324Z",
     "iopub.status.busy": "2024-06-27T02:36:28.023717Z",
     "iopub.status.idle": "2024-06-27T02:36:28.049038Z",
     "shell.execute_reply": "2024-06-27T02:36:28.047667Z",
     "shell.execute_reply.started": "2024-06-27T02:36:28.024295Z"
    }
   },
   "outputs": [],
   "source": [
    "template_path = './util/conf.yaml'\n",
    "output_path = './outputs/'\n",
    "julia = 'julia'\n",
    "model = './model/run_model.jl'\n",
    "\n",
    "# Gets dictionary of parameters\n",
    "template = read_yaml_to_dict(template_path)\n",
    "\n",
    "# Update the template with additional parameters\n",
    "# runID is the name of the output directory withint the output path!\n",
    "# You can pass any value to this to update it!!!!! Even add NOTES you want saved in the yaml (category=\"neutral only\")\n",
    "updated_params = get_parameter_output(\n",
    "    template_path,\n",
    "    outpath=output_path,\n",
    "    runID=f'test_1',\n",
    "    num_seeds=1,\n",
    "    polyp_init_time=20,\n",
    "    max_t=60,\n",
    "    verbose=1,\n",
    "    seed=1337,\n",
    ")\n",
    "\n",
    "outdir = updated_params['outfile']"
   ]
  },
  {
   "cell_type": "code",
   "execution_count": 3,
   "metadata": {
    "execution": {
     "iopub.execute_input": "2024-06-27T02:36:28.051519Z",
     "iopub.status.busy": "2024-06-27T02:36:28.050864Z",
     "iopub.status.idle": "2024-06-27T02:36:28.065507Z",
     "shell.execute_reply": "2024-06-27T02:36:28.064529Z",
     "shell.execute_reply.started": "2024-06-27T02:36:28.051471Z"
    }
   },
   "outputs": [
    {
     "data": {
      "text/plain": [
       "{'runtype': 'full_model',\n",
       " 'initSize': 1000000,\n",
       " 'birth_rate': 0.034,\n",
       " 'death_rate': 0.01,\n",
       " 'mut_rate': 36.0,\n",
       " 'adv_mut_rate': 0.0,\n",
       " 's_coef': 0.0,\n",
       " 'num_seeds': 1,\n",
       " 'final_pop_size': 1000000,\n",
       " 's_coef_polyp': 0.0,\n",
       " 'adv_mut_rate_polyp': 0.0,\n",
       " 'polyp_birth_rate': 0.34,\n",
       " 'polyp_death_rate': 0.01,\n",
       " 'mut_rate_polyp': 36.0,\n",
       " 'polyp_init_time': 20,\n",
       " 'outfile': './outputs/test_1/',\n",
       " 'seed': 1337,\n",
       " 'max_t': 60,\n",
       " 'verbose': 1,\n",
       " 'mean_depth': 100,\n",
       " 'sd_depth': 10,\n",
       " 'sample_size': 10000}"
      ]
     },
     "execution_count": 3,
     "metadata": {},
     "output_type": "execute_result"
    }
   ],
   "source": [
    "updated_params"
   ]
  },
  {
   "cell_type": "markdown",
   "metadata": {},
   "source": [
    "``` python\n",
    "updated_params = get_parameter_output(\n",
    "    template_path,\n",
    "    outpath=output_path,\n",
    "    runID='test',\n",
    "    verbose=1,\n",
    "    adv_mut_rate_polyp=0.0,\n",
    "    s_coef=0.0,\n",
    "    s_coef_polyp=0.0,\n",
    "    max_t=40*2, # 20 years end time if 20*2\n",
    "    polyp_birth_rate=0.034*10.,\n",
    "    polyp_init_time=10*2., # 10 year init_time\n",
    "    num_seeds=1,\n",
    "    birth_rate= 0.034,\n",
    "    death_rate= 0.01,\n",
    "    polyp_death_rate= 0.005,\n",
    "    initSize=1000000,\n",
    "    final_pop_size=1000000\n",
    ")\n",
    "```\n",
    "\n",
    "``` python\n",
    "updated_params = get_parameter_output(\n",
    "    template_path,\n",
    "    runtype='full_model', initSize=10000, birth_rate=0.034, death_rate=0.01,\n",
    "    mut_rate=36, adv_mut_rate=0.02, s_coef=np.float64(0.06566006842744433),\n",
    "    num_seeds=np.int64(38), final_pop_size=1000000, s_coef_polyp=np.float64(0.024867707272384902),\n",
    "    adv_mut_rate_polyp=0.02, polyp_birth_rate=np.float64(0.09921542889027278), polyp_death_rate=0.02,\n",
    "    mut_rate_polyp=np.int64(71), polyp_init_time=np.int64(57),\n",
    "    outfile=output_path, seed=42, max_t=90, verbose=1, mean_depth=100,\n",
    "    sd_depth=10, sample_size=10000, runID='test', randomSeed=825319\n",
    ")\n",
    "```"
   ]
  },
  {
   "cell_type": "code",
   "execution_count": 4,
   "metadata": {
    "execution": {
     "iopub.execute_input": "2024-06-27T02:36:28.067816Z",
     "iopub.status.busy": "2024-06-27T02:36:28.067025Z",
     "iopub.status.idle": "2024-06-27T02:36:58.946396Z",
     "shell.execute_reply": "2024-06-27T02:36:58.945263Z",
     "shell.execute_reply.started": "2024-06-27T02:36:28.067772Z"
    }
   },
   "outputs": [
    {
     "data": {
      "text/plain": [
       "0"
      ]
     },
     "execution_count": 4,
     "metadata": {},
     "output_type": "execute_result"
    }
   ],
   "source": [
    "# To run the model\n",
    "logfile = outdir + '/run.log'\n",
    "run_model_job(updated_params, julia=julia, model=model, model_log=logfile)"
   ]
  },
  {
   "cell_type": "markdown",
   "metadata": {},
   "source": [
    "### Loading Outputs"
   ]
  },
  {
   "cell_type": "code",
   "execution_count": 5,
   "metadata": {
    "execution": {
     "iopub.execute_input": "2024-06-27T02:36:58.948901Z",
     "iopub.status.busy": "2024-06-27T02:36:58.948134Z",
     "iopub.status.idle": "2024-06-27T02:36:59.029722Z",
     "shell.execute_reply": "2024-06-27T02:36:59.028293Z",
     "shell.execute_reply.started": "2024-06-27T02:36:58.948846Z"
    }
   },
   "outputs": [
    {
     "name": "stdout",
     "output_type": "stream",
     "text": [
      "├── driver_muts\n",
      "│   ├── fission (0)\n",
      "│   ├── inutero (0)\n",
      "│   └── polypfission (0)\n",
      "├── mutId_delineator\n",
      "│   └── delineator_muts (2)\n",
      "├── params\n",
      "│   ├── param_names (22)\n",
      "│   └── values (22)\n",
      "├── pops\n",
      "│   ├── fission (21)\n",
      "│   ├── inutero (10)\n",
      "│   └── polypfission (41)\n",
      "└── seed_genomes\n",
      "    └── seed_genome_1 (423)\n"
     ]
    }
   ],
   "source": [
    "# updated_params is the dictionary of parameters that you can use to store info to load model results\n",
    "# To load the model results\n",
    "h5 = outdir + '/out.hdf5'\n",
    "muts = outdir + '/muts.tsv'\n",
    "\n",
    "out = read_h5(h5)\n",
    "muts = pd.read_csv(muts, sep='\\t')\n",
    "\n",
    "h5_tree(out)"
   ]
  },
  {
   "cell_type": "code",
   "execution_count": 6,
   "metadata": {
    "execution": {
     "iopub.execute_input": "2024-06-27T02:36:59.033864Z",
     "iopub.status.busy": "2024-06-27T02:36:59.033187Z",
     "iopub.status.idle": "2024-06-27T02:36:59.286889Z",
     "shell.execute_reply": "2024-06-27T02:36:59.285968Z",
     "shell.execute_reply.started": "2024-06-27T02:36:59.033816Z"
    }
   },
   "outputs": [],
   "source": [
    "# Process data\n",
    "# Label \"Germline\" and \"Somatic\"\n",
    "# Convert time for inutero to months\n",
    "# Convert VAF to ppVAF\n",
    "popdf, muts = process_data(out, muts, outdir, min_vaf=0.0)"
   ]
  },
  {
   "cell_type": "markdown",
   "metadata": {},
   "source": [
    "### Plot results\n",
    "\n",
    "Two files that we are interested in were processed after model results.\n",
    "\n",
    "First one is population information. It contains the population of each stage at each time step. The other is the mutation file with the post processing steps.\n",
    "\n",
    "`population: post_pops.tsv`\n",
    "\n",
    "`mutations: post_muts.tsv`"
   ]
  },
  {
   "cell_type": "code",
   "execution_count": 7,
   "metadata": {
    "execution": {
     "iopub.execute_input": "2024-06-27T02:36:59.288024Z",
     "iopub.status.busy": "2024-06-27T02:36:59.287806Z",
     "iopub.status.idle": "2024-06-27T02:37:02.686269Z",
     "shell.execute_reply": "2024-06-27T02:37:02.684595Z",
     "shell.execute_reply.started": "2024-06-27T02:36:59.288004Z"
    }
   },
   "outputs": [
    {
     "data": {
      "image/png": "[encoded data removed]",
      "text/plain": [
       "<Figure size 800x400 with 3 Axes>"
      ]
     },
     "metadata": {},
     "output_type": "display_data"
    }
   ],
   "source": [
    "plot_results(popdf, muts, outpath=outdir)"
   ]
  },
  {
   "cell_type": "code",
   "execution_count": 8,
   "metadata": {
    "execution": {
     "iopub.execute_input": "2024-06-27T02:37:02.688931Z",
     "iopub.status.busy": "2024-06-27T02:37:02.688277Z",
     "iopub.status.idle": "2024-06-27T02:37:02.765756Z",
     "shell.execute_reply": "2024-06-27T02:37:02.764574Z",
     "shell.execute_reply.started": "2024-06-27T02:37:02.688874Z"
    }
   },
   "outputs": [
    {
     "data": {
      "text/html": [
       "<div>\n",
       "<style scoped>\n",
       "    .dataframe tbody tr th:only-of-type {\n",
       "        vertical-align: middle;\n",
       "    }\n",
       "\n",
       "    .dataframe tbody tr th {\n",
       "        vertical-align: top;\n",
       "    }\n",
       "\n",
       "    .dataframe thead th {\n",
       "        text-align: right;\n",
       "    }\n",
       "</style>\n",
       "<table border=\"1\" class=\"dataframe\">\n",
       "  <thead>\n",
       "    <tr style=\"text-align: right;\">\n",
       "      <th></th>\n",
       "      <th>mean</th>\n",
       "      <th>size</th>\n",
       "    </tr>\n",
       "    <tr>\n",
       "      <th>clonality</th>\n",
       "      <th></th>\n",
       "      <th></th>\n",
       "    </tr>\n",
       "  </thead>\n",
       "  <tbody>\n",
       "    <tr>\n",
       "      <th>CLONAL</th>\n",
       "      <td>1.019908</td>\n",
       "      <td>380</td>\n",
       "    </tr>\n",
       "    <tr>\n",
       "      <th>SUBCLONAL</th>\n",
       "      <td>0.075733</td>\n",
       "      <td>5689</td>\n",
       "    </tr>\n",
       "  </tbody>\n",
       "</table>\n",
       "</div>"
      ],
      "text/plain": [
       "               mean  size\n",
       "clonality                \n",
       "CLONAL     1.019908   380\n",
       "SUBCLONAL  0.075733  5689"
      ]
     },
     "execution_count": 8,
     "metadata": {},
     "output_type": "execute_result"
    }
   ],
   "source": [
    "muts.query('group==\"Polyp\"').query('mut_type==\"Somatic\"').groupby('clonality')['ppVAF'].agg([\"mean\", \"size\"])"
   ]
  },
  {
   "cell_type": "markdown",
   "metadata": {},
   "source": [
    "### Data"
   ]
  },
  {
   "cell_type": "code",
   "execution_count": 9,
   "metadata": {
    "execution": {
     "iopub.execute_input": "2024-06-27T02:37:02.768084Z",
     "iopub.status.busy": "2024-06-27T02:37:02.767452Z",
     "iopub.status.idle": "2024-06-27T02:37:02.820194Z",
     "shell.execute_reply": "2024-06-27T02:37:02.818722Z",
     "shell.execute_reply.started": "2024-06-27T02:37:02.768039Z"
    }
   },
   "outputs": [
    {
     "name": "stdout",
     "output_type": "stream",
     "text": [
      "└── F004\n",
      "    ├── ccfs (4012)\n",
      "    ├── colectomy_age (1)\n",
      "    ├── density (50)\n",
      "    ├── num_clonal_subclonal_total (3)\n",
      "    ├── probs (21)\n",
      "    ├── stage (scalar)\n",
      "    └── vafs (4012)\n"
     ]
    }
   ],
   "source": [
    "f = read_h5('../cluster/data/summary_stats/wgs/F004.hdf5')\n",
    "h5_tree(f)"
   ]
  }
 ],
 "metadata": {
  "kernelspec": {
   "display_name": "Python 3 (ipykernel)",
   "language": "python",
   "name": "python3"
  },
  "language_info": {
   "codemirror_mode": {
    "name": "ipython",
    "version": 3
   },
   "file_extension": ".py",
   "mimetype": "text/x-python",
   "name": "python",
   "nbconvert_exporter": "python",
   "pygments_lexer": "ipython3",
   "version": "3.12.1"
  }
 },
 "nbformat": 4,
 "nbformat_minor": 4
}
